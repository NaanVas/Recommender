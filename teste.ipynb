{
 "cells": [
  {
   "cell_type": "code",
   "execution_count": 20,
   "metadata": {},
   "outputs": [],
   "source": [
    "import pandas as pd\n",
    "import yaml\n",
    "import os"
   ]
  },
  {
   "cell_type": "code",
   "execution_count": 18,
   "metadata": {},
   "outputs": [],
   "source": [
    "movielens_path = 'preprocess/.data/Movielens/u.data'\n",
    "\n",
    "column_names =['user_id', 'item_id', 'rating', 'timestamp']\n",
    "df = pd.read_csv(movielens_path, sep='\\t', names=column_names)"
   ]
  },
  {
   "cell_type": "code",
   "execution_count": 19,
   "metadata": {},
   "outputs": [
    {
     "data": {
      "text/html": [
       "<div>\n",
       "<style scoped>\n",
       "    .dataframe tbody tr th:only-of-type {\n",
       "        vertical-align: middle;\n",
       "    }\n",
       "\n",
       "    .dataframe tbody tr th {\n",
       "        vertical-align: top;\n",
       "    }\n",
       "\n",
       "    .dataframe thead th {\n",
       "        text-align: right;\n",
       "    }\n",
       "</style>\n",
       "<table border=\"1\" class=\"dataframe\">\n",
       "  <thead>\n",
       "    <tr style=\"text-align: right;\">\n",
       "      <th></th>\n",
       "      <th>user_id</th>\n",
       "      <th>item_id</th>\n",
       "      <th>rating</th>\n",
       "      <th>timestamp</th>\n",
       "    </tr>\n",
       "  </thead>\n",
       "  <tbody>\n",
       "    <tr>\n",
       "      <th>0</th>\n",
       "      <td>196</td>\n",
       "      <td>242</td>\n",
       "      <td>3</td>\n",
       "      <td>881250949</td>\n",
       "    </tr>\n",
       "    <tr>\n",
       "      <th>1</th>\n",
       "      <td>186</td>\n",
       "      <td>302</td>\n",
       "      <td>3</td>\n",
       "      <td>891717742</td>\n",
       "    </tr>\n",
       "    <tr>\n",
       "      <th>2</th>\n",
       "      <td>22</td>\n",
       "      <td>377</td>\n",
       "      <td>1</td>\n",
       "      <td>878887116</td>\n",
       "    </tr>\n",
       "    <tr>\n",
       "      <th>3</th>\n",
       "      <td>244</td>\n",
       "      <td>51</td>\n",
       "      <td>2</td>\n",
       "      <td>880606923</td>\n",
       "    </tr>\n",
       "    <tr>\n",
       "      <th>4</th>\n",
       "      <td>166</td>\n",
       "      <td>346</td>\n",
       "      <td>1</td>\n",
       "      <td>886397596</td>\n",
       "    </tr>\n",
       "  </tbody>\n",
       "</table>\n",
       "</div>"
      ],
      "text/plain": [
       "   user_id  item_id  rating  timestamp\n",
       "0      196      242       3  881250949\n",
       "1      186      302       3  891717742\n",
       "2       22      377       1  878887116\n",
       "3      244       51       2  880606923\n",
       "4      166      346       1  886397596"
      ]
     },
     "execution_count": 19,
     "metadata": {},
     "output_type": "execute_result"
    }
   ],
   "source": [
    "df.head()"
   ]
  },
  {
   "cell_type": "code",
   "execution_count": 23,
   "metadata": {},
   "outputs": [],
   "source": [
    "def load_config():\n",
    "    config_path = os.path.join(os.path.dirname(os.path.abspath(__file__)), 'config', 'datasets.yaml')\n",
    "    with open(config_path, 'r') as file:\n",
    "        config = yaml.safe_load(file)\n",
    "    return config\n",
    "\n",
    "def get_data_dir(base_name):\n",
    "    data_dir = os.path.join(os.path.dirname(os.path.abspath(__file__)), '.data', base_name)\n",
    "    if not os.path.exists(data_dir):\n",
    "        os.makedirs(data_dir)\n",
    "    return data_dir\n",
    "\n",
    "\n",
    "def load_data(base_name):\n",
    "    config = load_config()\n",
    "    if base_name not in config['datasets']:\n",
    "        raise ValueError(f'Configuração para {base_name} não encontrada.')\n",
    "    \n",
    "    data_config = config['datasets'][base_name]\n",
    "    data_dir = get_data_dir(base_name)\n",
    "    file_path = os.path.join(data_dir, data_config['file_name'])\n",
    "\n",
    "    if os.path.exists(file_path):\n",
    "        print(f'Carregando dados de {file_path}')\n",
    "        if data_config['file_format'] == 'csv':\n",
    "            df = pd.read_csv(file_path, names=data_config['column_names'])\n",
    "        elif data_config['file_format'] == 'json':\n",
    "            df = pd.read_json(file_path)\n",
    "        else:\n",
    "            raise ValueError(f'Formato de arquivo não suportado: {data_config[\"file_format\"]}')\n",
    "        \n",
    "    else:\n",
    "        raise FileNotFoundError(f'Arquivo {file_path} não enontrado na pasta .data')\n",
    "    \n",
    "    return df\n",
    "\n",
    "def preprocess_data(df, base_name):\n",
    "    config = load_config()\n",
    "    data_config = config['datasets'][base_name]\n",
    "\n",
    "    df = df.drop('timestamp', axis=1)\n",
    "\n",
    "    if df[data_config['column_names'][0]].dtype != 'int' or df[data_config['column_names'][1]].dtype != 'int':\n",
    "        # Remapeia os ids para números de 0 a n-1\n",
    "        df[data_config['column_names'][0]] = pd.factorize(df[data_config['column_names'][0]])[0]\n",
    "        df[data_config['column_names'][1]] = pd.factorize(df[data_config['column_names'][1]])[0]\n",
    "    else:\n",
    "        df = ordenar_df(df, config)\n",
    "\n",
    "    return df\n",
    "\n",
    "def ordenar_df(df, data_config):\n",
    "\n",
    "    df.sort_values(by=[data_config['column_names'][0], data_config['column_names'][1]], inplace=True)\n",
    "    df.reset_index(drop=True, inplace=True)\n",
    "            \n",
    "    # Verificar se o user_id e o item_id não começam com 0\n",
    "    if df[data_config['column_names'][0]].min() != 0 or df[data_config['column_names'][1]].min() != 0:\n",
    "        df[data_config['column_names'][0]] = pd.factorize(df[data_config['column_names'][0]])[0]\n",
    "        df[data_config['column_names'][1]] = pd.factorize(df[data_config['column_names'][1]])[0]\n",
    "    \n",
    "    return df"
   ]
  },
  {
   "cell_type": "code",
   "execution_count": 24,
   "metadata": {},
   "outputs": [
    {
     "ename": "NameError",
     "evalue": "name '__file__' is not defined",
     "output_type": "error",
     "traceback": [
      "\u001b[0;31m---------------------------------------------------------------------------\u001b[0m",
      "\u001b[0;31mNameError\u001b[0m                                 Traceback (most recent call last)",
      "Cell \u001b[0;32mIn[24], line 2\u001b[0m\n\u001b[1;32m      1\u001b[0m base_name \u001b[38;5;241m=\u001b[39m \u001b[38;5;124m'\u001b[39m\u001b[38;5;124mMovielens\u001b[39m\u001b[38;5;124m'\u001b[39m\n\u001b[0;32m----> 2\u001b[0m df \u001b[38;5;241m=\u001b[39m \u001b[43mload_data\u001b[49m\u001b[43m(\u001b[49m\u001b[43mbase_name\u001b[49m\u001b[43m)\u001b[49m\n\u001b[1;32m      3\u001b[0m data \u001b[38;5;241m=\u001b[39m preprocess_data(df, base_name)\n\u001b[1;32m      4\u001b[0m data\u001b[38;5;241m.\u001b[39mhead()\n",
      "Cell \u001b[0;32mIn[23], line 15\u001b[0m, in \u001b[0;36mload_data\u001b[0;34m(base_name)\u001b[0m\n\u001b[1;32m     14\u001b[0m \u001b[38;5;28;01mdef\u001b[39;00m \u001b[38;5;21mload_data\u001b[39m(base_name):\n\u001b[0;32m---> 15\u001b[0m     config \u001b[38;5;241m=\u001b[39m \u001b[43mload_config\u001b[49m\u001b[43m(\u001b[49m\u001b[43m)\u001b[49m\n\u001b[1;32m     16\u001b[0m     \u001b[38;5;28;01mif\u001b[39;00m base_name \u001b[38;5;129;01mnot\u001b[39;00m \u001b[38;5;129;01min\u001b[39;00m config[\u001b[38;5;124m'\u001b[39m\u001b[38;5;124mdatasets\u001b[39m\u001b[38;5;124m'\u001b[39m]:\n\u001b[1;32m     17\u001b[0m         \u001b[38;5;28;01mraise\u001b[39;00m \u001b[38;5;167;01mValueError\u001b[39;00m(\u001b[38;5;124mf\u001b[39m\u001b[38;5;124m'\u001b[39m\u001b[38;5;124mConfiguração para \u001b[39m\u001b[38;5;132;01m{\u001b[39;00mbase_name\u001b[38;5;132;01m}\u001b[39;00m\u001b[38;5;124m não encontrada.\u001b[39m\u001b[38;5;124m'\u001b[39m)\n",
      "Cell \u001b[0;32mIn[23], line 2\u001b[0m, in \u001b[0;36mload_config\u001b[0;34m()\u001b[0m\n\u001b[1;32m      1\u001b[0m \u001b[38;5;28;01mdef\u001b[39;00m \u001b[38;5;21mload_config\u001b[39m():\n\u001b[0;32m----> 2\u001b[0m     config_path \u001b[38;5;241m=\u001b[39m os\u001b[38;5;241m.\u001b[39mpath\u001b[38;5;241m.\u001b[39mjoin(os\u001b[38;5;241m.\u001b[39mpath\u001b[38;5;241m.\u001b[39mdirname(os\u001b[38;5;241m.\u001b[39mpath\u001b[38;5;241m.\u001b[39mabspath(\u001b[38;5;18;43m__file__\u001b[39;49m)), \u001b[38;5;124m'\u001b[39m\u001b[38;5;124mconfig\u001b[39m\u001b[38;5;124m'\u001b[39m, \u001b[38;5;124m'\u001b[39m\u001b[38;5;124mdatasets.yaml\u001b[39m\u001b[38;5;124m'\u001b[39m)\n\u001b[1;32m      3\u001b[0m     \u001b[38;5;28;01mwith\u001b[39;00m \u001b[38;5;28mopen\u001b[39m(config_path, \u001b[38;5;124m'\u001b[39m\u001b[38;5;124mr\u001b[39m\u001b[38;5;124m'\u001b[39m) \u001b[38;5;28;01mas\u001b[39;00m file:\n\u001b[1;32m      4\u001b[0m         config \u001b[38;5;241m=\u001b[39m yaml\u001b[38;5;241m.\u001b[39msafe_load(file)\n",
      "\u001b[0;31mNameError\u001b[0m: name '__file__' is not defined"
     ]
    }
   ],
   "source": [
    "base_name = 'Movielens'\n",
    "df = load_data(base_name)\n",
    "data = preprocess_data(df, base_name)\n",
    "data.head()"
   ]
  },
  {
   "cell_type": "code",
   "execution_count": 18,
   "metadata": {},
   "outputs": [
    {
     "name": "stdout",
     "output_type": "stream",
     "text": [
      "Número de user_id únicos: 943\n",
      "Número de item_id únicos: 1682\n"
     ]
    }
   ],
   "source": []
  },
  {
   "cell_type": "code",
   "execution_count": 13,
   "metadata": {},
   "outputs": [],
   "source": [
    "data_path = 'preprocess/.data/MusicalInstruments/ratings_Musical_Instruments.csv'\n",
    "column_names = ['user_id', 'item_id', 'ratings', 'unixReviewTime']\n",
    "df = pd.read_csv(data_path, names=column_names)"
   ]
  },
  {
   "cell_type": "code",
   "execution_count": 14,
   "metadata": {},
   "outputs": [
    {
     "data": {
      "text/html": [
       "<div>\n",
       "<style scoped>\n",
       "    .dataframe tbody tr th:only-of-type {\n",
       "        vertical-align: middle;\n",
       "    }\n",
       "\n",
       "    .dataframe tbody tr th {\n",
       "        vertical-align: top;\n",
       "    }\n",
       "\n",
       "    .dataframe thead th {\n",
       "        text-align: right;\n",
       "    }\n",
       "</style>\n",
       "<table border=\"1\" class=\"dataframe\">\n",
       "  <thead>\n",
       "    <tr style=\"text-align: right;\">\n",
       "      <th></th>\n",
       "      <th>user_id</th>\n",
       "      <th>item_id</th>\n",
       "      <th>ratings</th>\n",
       "      <th>unixReviewTime</th>\n",
       "    </tr>\n",
       "  </thead>\n",
       "  <tbody>\n",
       "    <tr>\n",
       "      <th>0</th>\n",
       "      <td>A1YS9MDZP93857</td>\n",
       "      <td>0006428320</td>\n",
       "      <td>3.0</td>\n",
       "      <td>1394496000</td>\n",
       "    </tr>\n",
       "    <tr>\n",
       "      <th>1</th>\n",
       "      <td>A3TS466QBAWB9D</td>\n",
       "      <td>0014072149</td>\n",
       "      <td>5.0</td>\n",
       "      <td>1370476800</td>\n",
       "    </tr>\n",
       "    <tr>\n",
       "      <th>2</th>\n",
       "      <td>A3BUDYITWUSIS7</td>\n",
       "      <td>0041291905</td>\n",
       "      <td>5.0</td>\n",
       "      <td>1381708800</td>\n",
       "    </tr>\n",
       "    <tr>\n",
       "      <th>3</th>\n",
       "      <td>A19K10Z0D2NTZK</td>\n",
       "      <td>0041913574</td>\n",
       "      <td>5.0</td>\n",
       "      <td>1285200000</td>\n",
       "    </tr>\n",
       "    <tr>\n",
       "      <th>4</th>\n",
       "      <td>A14X336IB4JD89</td>\n",
       "      <td>0201891859</td>\n",
       "      <td>1.0</td>\n",
       "      <td>1350432000</td>\n",
       "    </tr>\n",
       "  </tbody>\n",
       "</table>\n",
       "</div>"
      ],
      "text/plain": [
       "          user_id     item_id  ratings  unixReviewTime\n",
       "0  A1YS9MDZP93857  0006428320      3.0      1394496000\n",
       "1  A3TS466QBAWB9D  0014072149      5.0      1370476800\n",
       "2  A3BUDYITWUSIS7  0041291905      5.0      1381708800\n",
       "3  A19K10Z0D2NTZK  0041913574      5.0      1285200000\n",
       "4  A14X336IB4JD89  0201891859      1.0      1350432000"
      ]
     },
     "execution_count": 14,
     "metadata": {},
     "output_type": "execute_result"
    }
   ],
   "source": [
    "df.head()"
   ]
  },
  {
   "cell_type": "code",
   "execution_count": 15,
   "metadata": {},
   "outputs": [
    {
     "name": "stdout",
     "output_type": "stream",
     "text": [
      "Número de user_id únicos: 339231\n",
      "Número de item_id únicos: 83046\n"
     ]
    }
   ],
   "source": [
    "def contar_unicos(df):\n",
    "    num_user_id_unicos = df['user_id'].nunique()\n",
    "    num_item_id_unicos = df['item_id'].nunique()\n",
    "    return num_user_id_unicos, num_item_id_unicos\n",
    "\n",
    "# Contar user_id e item_id únicos\n",
    "num_user_id_unicos, num_item_id_unicos = contar_unicos(df)\n",
    "\n",
    "print(f\"Número de user_id únicos: {num_user_id_unicos}\")\n",
    "print(f\"Número de item_id únicos: {num_item_id_unicos}\")"
   ]
  },
  {
   "cell_type": "code",
   "execution_count": 6,
   "metadata": {},
   "outputs": [
    {
     "data": {
      "text/html": [
       "<div>\n",
       "<style scoped>\n",
       "    .dataframe tbody tr th:only-of-type {\n",
       "        vertical-align: middle;\n",
       "    }\n",
       "\n",
       "    .dataframe tbody tr th {\n",
       "        vertical-align: top;\n",
       "    }\n",
       "\n",
       "    .dataframe thead th {\n",
       "        text-align: right;\n",
       "    }\n",
       "</style>\n",
       "<table border=\"1\" class=\"dataframe\">\n",
       "  <thead>\n",
       "    <tr style=\"text-align: right;\">\n",
       "      <th></th>\n",
       "      <th>user_id</th>\n",
       "      <th>item_id</th>\n",
       "      <th>ratings</th>\n",
       "      <th>unixReviewTime</th>\n",
       "    </tr>\n",
       "  </thead>\n",
       "  <tbody>\n",
       "    <tr>\n",
       "      <th>0</th>\n",
       "      <td>0</td>\n",
       "      <td>0</td>\n",
       "      <td>3.0</td>\n",
       "      <td>1394496000</td>\n",
       "    </tr>\n",
       "    <tr>\n",
       "      <th>1</th>\n",
       "      <td>1</td>\n",
       "      <td>1</td>\n",
       "      <td>5.0</td>\n",
       "      <td>1370476800</td>\n",
       "    </tr>\n",
       "    <tr>\n",
       "      <th>2</th>\n",
       "      <td>2</td>\n",
       "      <td>2</td>\n",
       "      <td>5.0</td>\n",
       "      <td>1381708800</td>\n",
       "    </tr>\n",
       "    <tr>\n",
       "      <th>3</th>\n",
       "      <td>3</td>\n",
       "      <td>3</td>\n",
       "      <td>5.0</td>\n",
       "      <td>1285200000</td>\n",
       "    </tr>\n",
       "    <tr>\n",
       "      <th>4</th>\n",
       "      <td>4</td>\n",
       "      <td>4</td>\n",
       "      <td>1.0</td>\n",
       "      <td>1350432000</td>\n",
       "    </tr>\n",
       "  </tbody>\n",
       "</table>\n",
       "</div>"
      ],
      "text/plain": [
       "   user_id  item_id  ratings  unixReviewTime\n",
       "0        0        0      3.0      1394496000\n",
       "1        1        1      5.0      1370476800\n",
       "2        2        2      5.0      1381708800\n",
       "3        3        3      5.0      1285200000\n",
       "4        4        4      1.0      1350432000"
      ]
     },
     "execution_count": 6,
     "metadata": {},
     "output_type": "execute_result"
    }
   ],
   "source": [
    "id_mapping = {id_value: index for index, id_value in enumerate(df['user_id'].unique())}\n",
    "df['user_id'] = df['user_id'].map(id_mapping)\n",
    "\n",
    "id_mapping = {id_value: index for index, id_value in enumerate(df['item_id'].unique())}\n",
    "df['item_id'] = df['item_id'].map(id_mapping)\n",
    "\n",
    "df.head()"
   ]
  },
  {
   "cell_type": "code",
   "execution_count": 16,
   "metadata": {},
   "outputs": [],
   "source": [
    "if df['user_id'].dtype != 'int' or df['item_id'].dtype != 'int':\n",
    "    # Remapeia os ids para números de 0 a n-1\n",
    "    df['user_id'] = pd.factorize(df['user_id'])[0]\n",
    "    df['item_id'] = pd.factorize(df['item_id'])[0]"
   ]
  },
  {
   "cell_type": "code",
   "execution_count": 17,
   "metadata": {},
   "outputs": [
    {
     "data": {
      "text/html": [
       "<div>\n",
       "<style scoped>\n",
       "    .dataframe tbody tr th:only-of-type {\n",
       "        vertical-align: middle;\n",
       "    }\n",
       "\n",
       "    .dataframe tbody tr th {\n",
       "        vertical-align: top;\n",
       "    }\n",
       "\n",
       "    .dataframe thead th {\n",
       "        text-align: right;\n",
       "    }\n",
       "</style>\n",
       "<table border=\"1\" class=\"dataframe\">\n",
       "  <thead>\n",
       "    <tr style=\"text-align: right;\">\n",
       "      <th></th>\n",
       "      <th>user_id</th>\n",
       "      <th>item_id</th>\n",
       "      <th>ratings</th>\n",
       "      <th>unixReviewTime</th>\n",
       "    </tr>\n",
       "  </thead>\n",
       "  <tbody>\n",
       "    <tr>\n",
       "      <th>0</th>\n",
       "      <td>0</td>\n",
       "      <td>0</td>\n",
       "      <td>3.0</td>\n",
       "      <td>1394496000</td>\n",
       "    </tr>\n",
       "    <tr>\n",
       "      <th>1</th>\n",
       "      <td>1</td>\n",
       "      <td>1</td>\n",
       "      <td>5.0</td>\n",
       "      <td>1370476800</td>\n",
       "    </tr>\n",
       "    <tr>\n",
       "      <th>2</th>\n",
       "      <td>2</td>\n",
       "      <td>2</td>\n",
       "      <td>5.0</td>\n",
       "      <td>1381708800</td>\n",
       "    </tr>\n",
       "    <tr>\n",
       "      <th>3</th>\n",
       "      <td>3</td>\n",
       "      <td>3</td>\n",
       "      <td>5.0</td>\n",
       "      <td>1285200000</td>\n",
       "    </tr>\n",
       "    <tr>\n",
       "      <th>4</th>\n",
       "      <td>4</td>\n",
       "      <td>4</td>\n",
       "      <td>1.0</td>\n",
       "      <td>1350432000</td>\n",
       "    </tr>\n",
       "  </tbody>\n",
       "</table>\n",
       "</div>"
      ],
      "text/plain": [
       "   user_id  item_id  ratings  unixReviewTime\n",
       "0        0        0      3.0      1394496000\n",
       "1        1        1      5.0      1370476800\n",
       "2        2        2      5.0      1381708800\n",
       "3        3        3      5.0      1285200000\n",
       "4        4        4      1.0      1350432000"
      ]
     },
     "execution_count": 17,
     "metadata": {},
     "output_type": "execute_result"
    }
   ],
   "source": [
    "df.head()"
   ]
  },
  {
   "cell_type": "code",
   "execution_count": 11,
   "metadata": {},
   "outputs": [
    {
     "name": "stdout",
     "output_type": "stream",
     "text": [
      "Número de user_id únicos: 339231\n",
      "Número de item_id únicos: 83046\n"
     ]
    }
   ],
   "source": [
    "num_user_id_unicos, num_item_id_unicos = contar_unicos(df)\n",
    "\n",
    "print(f\"Número de user_id únicos: {num_user_id_unicos}\")\n",
    "print(f\"Número de item_id únicos: {num_item_id_unicos}\")"
   ]
  }
 ],
 "metadata": {
  "kernelspec": {
   "display_name": ".venv",
   "language": "python",
   "name": "python3"
  },
  "language_info": {
   "codemirror_mode": {
    "name": "ipython",
    "version": 3
   },
   "file_extension": ".py",
   "mimetype": "text/x-python",
   "name": "python",
   "nbconvert_exporter": "python",
   "pygments_lexer": "ipython3",
   "version": "3.10.12"
  }
 },
 "nbformat": 4,
 "nbformat_minor": 2
}
